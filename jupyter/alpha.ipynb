{
 "cells": [
  {
   "cell_type": "markdown",
   "metadata": {},
   "source": [
    "# Alpha\n",
    "\n",
    "This notebook investigates the alpha of S&P stocks"
   ]
  },
  {
   "cell_type": "markdown",
   "metadata": {},
   "source": [
    "### Import & Format Data"
   ]
  },
  {
   "cell_type": "code",
   "execution_count": 1,
   "metadata": {},
   "outputs": [],
   "source": [
    "import os\n",
    "import numpy as np\n",
    "import pandas as pd\n",
    "import matplotlib.pyplot as plt\n",
    "import scipy.stats as stats\n",
    "from datetime import datetime, timedelta"
   ]
  },
  {
   "cell_type": "code",
   "execution_count": 4,
   "metadata": {},
   "outputs": [
    {
     "name": "stdout",
     "output_type": "stream",
     "text": [
      "SPY\t\t (6690, 6)\n",
      "10y TBill (raw)\t (6671, 6)\n",
      "10y TBill\t (6690, 6)\n"
     ]
    }
   ],
   "source": [
    "# S&P index\n",
    "spy = pd.read_csv('../data/price/SPY.csv', index_col='Date', parse_dates=True)\n",
    "print('SPY\\t\\t', spy.shape)\n",
    "\n",
    "# 10y Treasury yeild\n",
    "t_bill = pd.read_csv('../data/price/%5ETNX.csv', index_col='Date', parse_dates=True)\n",
    "t_bill = t_bill.loc[spy.index.intersection(t_bill.index)] # Only select dates valid from SPY\n",
    "print('10y TBill (raw)\\t', t_bill.shape)\n",
    "\n",
    "diff_index = spy.index.difference(t_bill.index)\n",
    "nan_df = pd.DataFrame([np.full(6, np.nan) for x in range(diff_index.size)], index=diff_index, columns=t_bill.columns)\n",
    "t_bill = t_bill.append(nan_df).sort_index()\n",
    "t_bill = t_bill.interpolate(method='time')\n",
    "\n",
    "assert t_bill[t_bill.Close.isnull()].index.size == 0 # check all nan's have been filled\n",
    "print('10y TBill\\t', t_bill.shape)"
   ]
  },
  {
   "cell_type": "code",
   "execution_count": 5,
   "metadata": {},
   "outputs": [
    {
     "name": "stdout",
     "output_type": "stream",
     "text": [
      "505\n"
     ]
    }
   ],
   "source": [
    "# get tickers\n",
    "tickers = pd.read_csv('../data/spy/tickers.csv', header=None)[1]\n",
    "\n",
    "# Load all stocks\n",
    "all_stocks = {}\n",
    "for ticker in tickers:\n",
    "    stock = pd.read_csv('../data/price/{}.csv'.format(ticker), index_col='Date', parse_dates=True)\n",
    "    all_stocks[ticker] = stock\n",
    "\n",
    "print(len(all_stocks))"
   ]
  },
  {
   "cell_type": "code",
   "execution_count": 6,
   "metadata": {},
   "outputs": [],
   "source": [
    "df = pd.DataFrame(spy['Adj Close'].rename('price'))\n",
    "df['pct_change'] = df.price.pct_change()\n",
    "df['log_return'] = np.log(df.price).diff()\n",
    "df = df.iloc[1:]\n",
    "y = df['log_return']"
   ]
  },
  {
   "cell_type": "code",
   "execution_count": 7,
   "metadata": {},
   "outputs": [
    {
     "ename": "ValueError",
     "evalue": "attempted relative import beyond top-level package",
     "output_type": "error",
     "traceback": [
      "\u001b[1;31m---------------------------------------------------------------------------\u001b[0m",
      "\u001b[1;31mValueError\u001b[0m                                Traceback (most recent call last)",
      "\u001b[1;32m<ipython-input-7-09a5ebc9c3bf>\u001b[0m in \u001b[0;36m<module>\u001b[1;34m\u001b[0m\n\u001b[1;32m----> 1\u001b[1;33m \u001b[1;32mfrom\u001b[0m \u001b[1;33m.\u001b[0m\u001b[1;33m.\u001b[0m\u001b[0mdata\u001b[0m\u001b[1;33m.\u001b[0m\u001b[0minfo\u001b[0m \u001b[1;32mimport\u001b[0m \u001b[0minfo\u001b[0m\u001b[1;33m\u001b[0m\u001b[0m\n\u001b[0m",
      "\u001b[1;31mValueError\u001b[0m: attempted relative import beyond top-level package"
     ]
    }
   ],
   "source": [
    "from ..data.info import info"
   ]
  }
 ],
 "metadata": {
  "kernelspec": {
   "display_name": "Python 3",
   "language": "python",
   "name": "python3"
  },
  "language_info": {
   "codemirror_mode": {
    "name": "ipython",
    "version": 3
   },
   "file_extension": ".py",
   "mimetype": "text/x-python",
   "name": "python",
   "nbconvert_exporter": "python",
   "pygments_lexer": "ipython3",
   "version": "3.7.0"
  }
 },
 "nbformat": 4,
 "nbformat_minor": 2
}
